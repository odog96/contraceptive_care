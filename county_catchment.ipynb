{
 "cells": [
  {
   "cell_type": "code",
   "execution_count": 1,
   "metadata": {},
   "outputs": [
    {
     "name": "stderr",
     "output_type": "stream",
     "text": [
      "C:\\Users\\olive\\anaconda3\\lib\\site-packages\\numpy\\_distributor_init.py:30: UserWarning: loaded more than 1 DLL from .libs:\n",
      "C:\\Users\\olive\\anaconda3\\lib\\site-packages\\numpy\\.libs\\libopenblas.EL2C6PLE4ZYW3ECEVIV3OXXGRN2NRFM2.gfortran-win_amd64.dll\n",
      "C:\\Users\\olive\\anaconda3\\lib\\site-packages\\numpy\\.libs\\libopenblas.WCDJNK7YVMPZQ2ME2ZZHJJRJ3JIKNDB7.gfortran-win_amd64.dll\n",
      "  warnings.warn(\"loaded more than 1 DLL from .libs:\"\n"
     ]
    }
   ],
   "source": [
    "import pandas as pd\n",
    "import numpy as np\n",
    "import json\n",
    "import io\n",
    "from io import StringIO\n",
    "import os\n",
    "\n",
    "from shapely.geometry import Point, LineString\n",
    "from shapely.geometry.polygon import Polygon\n",
    "from shapely import wkt\n",
    "\n",
    "from math import sin, cos, sqrt, atan2, radians\n"
   ]
  },
  {
   "cell_type": "markdown",
   "metadata": {},
   "source": [
    "### Process\n",
    "1. Collect geo-data\n",
    "2. Calculate county centroid data\n",
    "3. Clean up data frame with country centroid detail<br>\n",
    "\n",
    "**Load clinic Data**<br>\n",
    "\n",
    "4. Make all counties lower case\n",
    "5. For each time period (2010 and 2015), generate 2 lists:\n",
    "    * Counties with no clinic\n",
    "    * Counties with clicic\n",
    "6. For each time period, generate a list that finds closest county with a clinic. This is only for counties with no clinic in that time period\n",
    "7. The resultant data frame has fields: Closest counties / Counties. Groupby Closest counties to see catchment area\n",
    "\n",
    "**Estimate New Female Popultion with Catchment included**<br>\n",
    "\n",
    "8. Create 2 columns per time peried\n",
    "    * catchment area female pupulation that includes only catchment counties\n",
    "    * 'new' total that includes catchment plus a counties own population\n"
   ]
  },
  {
   "cell_type": "markdown",
   "metadata": {},
   "source": [
    "#### Texas Country Geo-Perimeter Data from:  \n",
    "https://gis-txdot.opendata.arcgis.com/datasets/TXDOT::texas-county-boundaries-detailed/about\n"
   ]
  },
  {
   "cell_type": "code",
   "execution_count": 2,
   "metadata": {},
   "outputs": [],
   "source": [
    "# Opening JSON file\n",
    "f = open('.geojson')\n",
    "# returns JSON object as\n",
    "# a dictionary\n",
    "data = json.load(f)"
   ]
  },
  {
   "cell_type": "code",
   "execution_count": 3,
   "metadata": {},
   "outputs": [],
   "source": [
    "county_detail = []\n",
    "for i in range(len(data['features'])):\n",
    "    ft_obj = data['features'][i]['properties']\n",
    "    county = ft_obj['CNTY_NM']\n",
    "    polygon_temp = data['features'][i]['geometry']['coordinates'][0][0]\n",
    "    line = LineString(polygon_temp)\n",
    "    centroid = line.centroid.wkt\n",
    "    county_detail.append({'county':county,'centroid':centroid})"
   ]
  },
  {
   "cell_type": "code",
   "execution_count": 4,
   "metadata": {},
   "outputs": [],
   "source": [
    "county_detail = pd.DataFrame(county_detail)"
   ]
  },
  {
   "cell_type": "code",
   "execution_count": 5,
   "metadata": {},
   "outputs": [
    {
     "data": {
      "text/html": [
       "<div>\n",
       "<style scoped>\n",
       "    .dataframe tbody tr th:only-of-type {\n",
       "        vertical-align: middle;\n",
       "    }\n",
       "\n",
       "    .dataframe tbody tr th {\n",
       "        vertical-align: top;\n",
       "    }\n",
       "\n",
       "    .dataframe thead th {\n",
       "        text-align: right;\n",
       "    }\n",
       "</style>\n",
       "<table border=\"1\" class=\"dataframe\">\n",
       "  <thead>\n",
       "    <tr style=\"text-align: right;\">\n",
       "      <th></th>\n",
       "      <th>county</th>\n",
       "      <th>centroid</th>\n",
       "    </tr>\n",
       "  </thead>\n",
       "  <tbody>\n",
       "    <tr>\n",
       "      <th>0</th>\n",
       "      <td>Atascosa</td>\n",
       "      <td>POINT (-98.52550129237503 28.89332098109323)</td>\n",
       "    </tr>\n",
       "    <tr>\n",
       "      <th>1</th>\n",
       "      <td>Matagorda</td>\n",
       "      <td>POINT (-95.99530169303894 28.84771261549633)</td>\n",
       "    </tr>\n",
       "    <tr>\n",
       "      <th>2</th>\n",
       "      <td>Jackson</td>\n",
       "      <td>POINT (-96.56923395706752 28.8874181215156)</td>\n",
       "    </tr>\n",
       "    <tr>\n",
       "      <th>3</th>\n",
       "      <td>De Witt</td>\n",
       "      <td>POINT (-97.36382516011945 29.07072652031978)</td>\n",
       "    </tr>\n",
       "    <tr>\n",
       "      <th>4</th>\n",
       "      <td>Wilson</td>\n",
       "      <td>POINT (-98.07891405628709 29.18641646756914)</td>\n",
       "    </tr>\n",
       "  </tbody>\n",
       "</table>\n",
       "</div>"
      ],
      "text/plain": [
       "      county                                      centroid\n",
       "0   Atascosa  POINT (-98.52550129237503 28.89332098109323)\n",
       "1  Matagorda  POINT (-95.99530169303894 28.84771261549633)\n",
       "2    Jackson   POINT (-96.56923395706752 28.8874181215156)\n",
       "3    De Witt  POINT (-97.36382516011945 29.07072652031978)\n",
       "4     Wilson  POINT (-98.07891405628709 29.18641646756914)"
      ]
     },
     "execution_count": 5,
     "metadata": {},
     "output_type": "execute_result"
    }
   ],
   "source": [
    "county_detail.head()"
   ]
  },
  {
   "cell_type": "markdown",
   "metadata": {},
   "source": [
    "### Clean up Data frame"
   ]
  },
  {
   "cell_type": "code",
   "execution_count": 6,
   "metadata": {},
   "outputs": [
    {
     "name": "stderr",
     "output_type": "stream",
     "text": [
      "C:\\Users\\olive\\AppData\\Local\\Temp/ipykernel_13652/231644267.py:2: FutureWarning: The default value of regex will change from True to False in a future version.\n",
      "  county_detail['centroid'] = county_detail['centroid'].str.replace('POINT \\(','')\n",
      "C:\\Users\\olive\\AppData\\Local\\Temp/ipykernel_13652/231644267.py:3: FutureWarning: The default value of regex will change from True to False in a future version.\n",
      "  county_detail['centroid'] = county_detail['centroid'].str.replace('\\)','')\n"
     ]
    }
   ],
   "source": [
    "## Remove 'POINT (' , trailing close parentasis, replace space for ,\n",
    "county_detail['centroid'] = county_detail['centroid'].str.replace('POINT \\(','')\n",
    "county_detail['centroid'] = county_detail['centroid'].str.replace('\\)','')\n",
    "county_detail['centroid'] = county_detail['centroid'].str.replace(' ',',')\n",
    "# create new lat / long fields\n",
    "county_detail['longitude'] = county_detail['centroid'].astype(str).str.split(',').str[0]\n",
    "county_detail['latitude'] = county_detail['centroid'].astype(str).str.split(',').str[1]\n",
    "# make series float\n",
    "county_detail['longitude'] = county_detail['longitude'].astype(float)\n",
    "county_detail['latitude'] = county_detail['latitude'].astype(float)\n",
    "# lower case counties\n",
    "county_detail['county'] = [x.lower() for x in county_detail['county']]\n",
    "# there was discprepency between 2 lists on dewitt county\n",
    "county_detail['county'] = county_detail['county'].str.replace('de witt','dewitt')\n"
   ]
  },
  {
   "cell_type": "code",
   "execution_count": 7,
   "metadata": {},
   "outputs": [
    {
     "data": {
      "text/html": [
       "<div>\n",
       "<style scoped>\n",
       "    .dataframe tbody tr th:only-of-type {\n",
       "        vertical-align: middle;\n",
       "    }\n",
       "\n",
       "    .dataframe tbody tr th {\n",
       "        vertical-align: top;\n",
       "    }\n",
       "\n",
       "    .dataframe thead th {\n",
       "        text-align: right;\n",
       "    }\n",
       "</style>\n",
       "<table border=\"1\" class=\"dataframe\">\n",
       "  <thead>\n",
       "    <tr style=\"text-align: right;\">\n",
       "      <th></th>\n",
       "      <th>county</th>\n",
       "      <th>centroid</th>\n",
       "      <th>longitude</th>\n",
       "      <th>latitude</th>\n",
       "    </tr>\n",
       "  </thead>\n",
       "  <tbody>\n",
       "    <tr>\n",
       "      <th>0</th>\n",
       "      <td>atascosa</td>\n",
       "      <td>-98.52550129237503,28.89332098109323</td>\n",
       "      <td>-98.525501</td>\n",
       "      <td>28.893321</td>\n",
       "    </tr>\n",
       "    <tr>\n",
       "      <th>1</th>\n",
       "      <td>matagorda</td>\n",
       "      <td>-95.99530169303894,28.84771261549633</td>\n",
       "      <td>-95.995302</td>\n",
       "      <td>28.847713</td>\n",
       "    </tr>\n",
       "    <tr>\n",
       "      <th>2</th>\n",
       "      <td>jackson</td>\n",
       "      <td>-96.56923395706752,28.8874181215156</td>\n",
       "      <td>-96.569234</td>\n",
       "      <td>28.887418</td>\n",
       "    </tr>\n",
       "    <tr>\n",
       "      <th>3</th>\n",
       "      <td>dewitt</td>\n",
       "      <td>-97.36382516011945,29.07072652031978</td>\n",
       "      <td>-97.363825</td>\n",
       "      <td>29.070727</td>\n",
       "    </tr>\n",
       "    <tr>\n",
       "      <th>4</th>\n",
       "      <td>wilson</td>\n",
       "      <td>-98.07891405628709,29.18641646756914</td>\n",
       "      <td>-98.078914</td>\n",
       "      <td>29.186416</td>\n",
       "    </tr>\n",
       "  </tbody>\n",
       "</table>\n",
       "</div>"
      ],
      "text/plain": [
       "      county                              centroid  longitude   latitude\n",
       "0   atascosa  -98.52550129237503,28.89332098109323 -98.525501  28.893321\n",
       "1  matagorda  -95.99530169303894,28.84771261549633 -95.995302  28.847713\n",
       "2    jackson   -96.56923395706752,28.8874181215156 -96.569234  28.887418\n",
       "3     dewitt  -97.36382516011945,29.07072652031978 -97.363825  29.070727\n",
       "4     wilson  -98.07891405628709,29.18641646756914 -98.078914  29.186416"
      ]
     },
     "execution_count": 7,
     "metadata": {},
     "output_type": "execute_result"
    }
   ],
   "source": [
    "county_detail.head()"
   ]
  },
  {
   "cell_type": "markdown",
   "metadata": {},
   "source": [
    "### Load clinic data"
   ]
  },
  {
   "cell_type": "code",
   "execution_count": 8,
   "metadata": {},
   "outputs": [],
   "source": [
    "clinic = pd.read_excel('contra&ab_ data.xlsx',sheet_name='Data_ for_STATA')"
   ]
  },
  {
   "cell_type": "code",
   "execution_count": 9,
   "metadata": {},
   "outputs": [],
   "source": [
    "# clean trailing and leading spaces in 'counties\n",
    "clinic['county'] = [x.strip() for x in clinic['county']]\n",
    "clinic['county'] = [x.lower() for x in clinic['county']]"
   ]
  },
  {
   "cell_type": "code",
   "execution_count": 10,
   "metadata": {},
   "outputs": [],
   "source": [
    "#columns = 'county','totclinic2010','totclin2015'\n",
    "clnc_df = clinic[['county','totclinic2010','totclin2015']]"
   ]
  },
  {
   "cell_type": "code",
   "execution_count": 11,
   "metadata": {},
   "outputs": [],
   "source": [
    "## Create 2 lists - one with counties with no clinics and the other with clinics\n",
    "no_clc_list = list(clnc_df[clnc_df['totclinic2010'] == 0]['county'])\n",
    "clc_list = list(clnc_df[clnc_df['totclinic2010'] >0 ]['county'])\n"
   ]
  },
  {
   "cell_type": "code",
   "execution_count": 12,
   "metadata": {},
   "outputs": [
    {
     "data": {
      "text/plain": [
       "254"
      ]
     },
     "execution_count": 12,
     "metadata": {},
     "output_type": "execute_result"
    }
   ],
   "source": [
    "len(no_clc_list)+len(clc_list)"
   ]
  },
  {
   "cell_type": "code",
   "execution_count": 13,
   "metadata": {},
   "outputs": [],
   "source": [
    "# approximate radius of earth in km\n",
    "def distance_earth(lat1,lon1,lat2,lon2):\n",
    "    R = 3963.19\n",
    "\n",
    "    lat1 = radians(lat1)\n",
    "    lon1 = radians(lon1)\n",
    "    lat2 = radians(lat2)\n",
    "    lon2 = radians(lon2)\n",
    "\n",
    "    dlon = lon2 - lon1\n",
    "    dlat = lat2 - lat1\n",
    "\n",
    "    a = sin(dlat / 2)**2 + cos(lat1) * cos(lat2) * sin(dlon / 2)**2\n",
    "    c = 2 * atan2(sqrt(a), sqrt(1 - a))\n",
    "\n",
    "    distance = R * c\n",
    "    return distance"
   ]
  },
  {
   "cell_type": "code",
   "execution_count": 14,
   "metadata": {},
   "outputs": [],
   "source": [
    "data_1_2010 = []\n",
    "for cnty in no_clc_list:\n",
    "    #print(cnty)\n",
    "    #temp_cnty = cnty\n",
    "    lat1 = county_detail[county_detail['county'] == cnty]['latitude'].values[0]\n",
    "    lon1 = county_detail[county_detail['county'] == cnty]['longitude'].values[0]\n",
    "    closest_distance = 1000\n",
    "    for cnty2 in clc_list:\n",
    "        lat2 = county_detail[county_detail['county'] == cnty2]['latitude'].values[0]\n",
    "        lon2 = county_detail[county_detail['county'] == cnty2]['longitude'].values[0]\n",
    "        temp_distance = distance_earth(lat1,lon1,lat2,lon2)\n",
    "        if temp_distance < closest_distance:\n",
    "            closest_distance = temp_distance\n",
    "            closest_county = cnty2\n",
    "    data_1_2010.append({'county':cnty,'closest_county':closest_county,'closest_distance':closest_distance})\n"
   ]
  },
  {
   "cell_type": "code",
   "execution_count": 15,
   "metadata": {},
   "outputs": [],
   "source": [
    "df1_1_2010 = pd.DataFrame(data_1_2010)"
   ]
  },
  {
   "cell_type": "code",
   "execution_count": 16,
   "metadata": {},
   "outputs": [],
   "source": [
    "#df1_1_2010.sort_values(['closest_county'])\n",
    "df1_1_2010 = df1_1_2010[['closest_county','county','closest_distance']].sort_values(['closest_county'])"
   ]
  },
  {
   "cell_type": "code",
   "execution_count": 17,
   "metadata": {},
   "outputs": [
    {
     "data": {
      "text/html": [
       "<div>\n",
       "<style scoped>\n",
       "    .dataframe tbody tr th:only-of-type {\n",
       "        vertical-align: middle;\n",
       "    }\n",
       "\n",
       "    .dataframe tbody tr th {\n",
       "        vertical-align: top;\n",
       "    }\n",
       "\n",
       "    .dataframe thead th {\n",
       "        text-align: right;\n",
       "    }\n",
       "</style>\n",
       "<table border=\"1\" class=\"dataframe\">\n",
       "  <thead>\n",
       "    <tr style=\"text-align: right;\">\n",
       "      <th></th>\n",
       "      <th>closest_county</th>\n",
       "      <th>county</th>\n",
       "      <th>closest_distance</th>\n",
       "    </tr>\n",
       "  </thead>\n",
       "  <tbody>\n",
       "    <tr>\n",
       "      <th>101</th>\n",
       "      <td>angelina</td>\n",
       "      <td>trinity</td>\n",
       "      <td>32.802964</td>\n",
       "    </tr>\n",
       "    <tr>\n",
       "      <th>81</th>\n",
       "      <td>angelina</td>\n",
       "      <td>polk</td>\n",
       "      <td>34.847860</td>\n",
       "    </tr>\n",
       "    <tr>\n",
       "      <th>85</th>\n",
       "      <td>aransas</td>\n",
       "      <td>refugio</td>\n",
       "      <td>13.003857</td>\n",
       "    </tr>\n",
       "    <tr>\n",
       "      <th>11</th>\n",
       "      <td>aransas</td>\n",
       "      <td>calhoun</td>\n",
       "      <td>26.310291</td>\n",
       "    </tr>\n",
       "    <tr>\n",
       "      <th>105</th>\n",
       "      <td>austin</td>\n",
       "      <td>washington</td>\n",
       "      <td>25.240788</td>\n",
       "    </tr>\n",
       "  </tbody>\n",
       "</table>\n",
       "</div>"
      ],
      "text/plain": [
       "    closest_county      county  closest_distance\n",
       "101       angelina     trinity         32.802964\n",
       "81        angelina        polk         34.847860\n",
       "85         aransas     refugio         13.003857\n",
       "11         aransas     calhoun         26.310291\n",
       "105         austin  washington         25.240788"
      ]
     },
     "execution_count": 17,
     "metadata": {},
     "output_type": "execute_result"
    }
   ],
   "source": [
    "df1_1_2010.head()\n",
    "#groupby()"
   ]
  },
  {
   "cell_type": "code",
   "execution_count": 18,
   "metadata": {},
   "outputs": [
    {
     "data": {
      "text/plain": [
       "(70,)"
      ]
     },
     "execution_count": 18,
     "metadata": {},
     "output_type": "execute_result"
    }
   ],
   "source": [
    "df1_1_2010.closest_county.unique().shape"
   ]
  },
  {
   "cell_type": "markdown",
   "metadata": {},
   "source": [
    "### 2015 data"
   ]
  },
  {
   "cell_type": "code",
   "execution_count": 19,
   "metadata": {},
   "outputs": [
    {
     "data": {
      "text/plain": [
       "254"
      ]
     },
     "execution_count": 19,
     "metadata": {},
     "output_type": "execute_result"
    }
   ],
   "source": [
    "no_clc_list = list(clnc_df[clnc_df['totclin2015'] == 0]['county'])\n",
    "clc_list = list(clnc_df[clnc_df['totclin2015'] >0 ]['county'])\n",
    "len(no_clc_list)+len(clc_list)"
   ]
  },
  {
   "cell_type": "code",
   "execution_count": 20,
   "metadata": {},
   "outputs": [],
   "source": [
    "data_1_2015 = []\n",
    "for cnty in no_clc_list:\n",
    "    #print(cnty)\n",
    "    #temp_cnty = cnty\n",
    "    lat1 = county_detail[county_detail['county'] == cnty]['latitude'].values[0]\n",
    "    lon1 = county_detail[county_detail['county'] == cnty]['longitude'].values[0]\n",
    "    closest_distance = 1000\n",
    "    for cnty2 in clc_list:\n",
    "        lat2 = county_detail[county_detail['county'] == cnty2]['latitude'].values[0]\n",
    "        lon2 = county_detail[county_detail['county'] == cnty2]['longitude'].values[0]\n",
    "        temp_distance = distance_earth(lat1,lon1,lat2,lon2)\n",
    "        if temp_distance < closest_distance:\n",
    "            closest_distance = temp_distance\n",
    "            closest_county = cnty2\n",
    "    data_1_2015.append({'county':cnty,'closest_county':closest_county,'closest_distance':closest_distance})\n"
   ]
  },
  {
   "cell_type": "code",
   "execution_count": 21,
   "metadata": {},
   "outputs": [],
   "source": [
    "df1_1_2015 = pd.DataFrame(data_1_2015)"
   ]
  },
  {
   "cell_type": "code",
   "execution_count": 22,
   "metadata": {},
   "outputs": [],
   "source": [
    "df1_1_2015 = df1_1_2015[['closest_county','county','closest_distance']].sort_values(['closest_county'])"
   ]
  },
  {
   "cell_type": "code",
   "execution_count": 23,
   "metadata": {},
   "outputs": [
    {
     "data": {
      "text/html": [
       "<div>\n",
       "<style scoped>\n",
       "    .dataframe tbody tr th:only-of-type {\n",
       "        vertical-align: middle;\n",
       "    }\n",
       "\n",
       "    .dataframe tbody tr th {\n",
       "        vertical-align: top;\n",
       "    }\n",
       "\n",
       "    .dataframe thead th {\n",
       "        text-align: right;\n",
       "    }\n",
       "</style>\n",
       "<table border=\"1\" class=\"dataframe\">\n",
       "  <thead>\n",
       "    <tr style=\"text-align: right;\">\n",
       "      <th></th>\n",
       "      <th>closest_county</th>\n",
       "      <th>county</th>\n",
       "      <th>closest_distance</th>\n",
       "    </tr>\n",
       "  </thead>\n",
       "  <tbody>\n",
       "    <tr>\n",
       "      <th>94</th>\n",
       "      <td>aransas</td>\n",
       "      <td>refugio</td>\n",
       "      <td>13.003857</td>\n",
       "    </tr>\n",
       "    <tr>\n",
       "      <th>10</th>\n",
       "      <td>aransas</td>\n",
       "      <td>calhoun</td>\n",
       "      <td>26.310291</td>\n",
       "    </tr>\n",
       "    <tr>\n",
       "      <th>20</th>\n",
       "      <td>austin</td>\n",
       "      <td>colorado</td>\n",
       "      <td>24.971734</td>\n",
       "    </tr>\n",
       "    <tr>\n",
       "      <th>69</th>\n",
       "      <td>bailey</td>\n",
       "      <td>lamb</td>\n",
       "      <td>27.420050</td>\n",
       "    </tr>\n",
       "    <tr>\n",
       "      <th>22</th>\n",
       "      <td>bell</td>\n",
       "      <td>coryell</td>\n",
       "      <td>31.087835</td>\n",
       "    </tr>\n",
       "  </tbody>\n",
       "</table>\n",
       "</div>"
      ],
      "text/plain": [
       "   closest_county    county  closest_distance\n",
       "94        aransas   refugio         13.003857\n",
       "10        aransas   calhoun         26.310291\n",
       "20         austin  colorado         24.971734\n",
       "69         bailey      lamb         27.420050\n",
       "22           bell   coryell         31.087835"
      ]
     },
     "execution_count": 23,
     "metadata": {},
     "output_type": "execute_result"
    }
   ],
   "source": [
    "df1_1_2015.head()"
   ]
  },
  {
   "cell_type": "code",
   "execution_count": 24,
   "metadata": {},
   "outputs": [
    {
     "data": {
      "text/plain": [
       "(126, 3)"
      ]
     },
     "execution_count": 24,
     "metadata": {},
     "output_type": "execute_result"
    }
   ],
   "source": [
    "df1_1_2015.shape"
   ]
  },
  {
   "cell_type": "code",
   "execution_count": 25,
   "metadata": {},
   "outputs": [
    {
     "data": {
      "text/plain": [
       "(65,)"
      ]
     },
     "execution_count": 25,
     "metadata": {},
     "output_type": "execute_result"
    }
   ],
   "source": [
    "df1_1_2015.closest_county.unique().shape"
   ]
  },
  {
   "cell_type": "markdown",
   "metadata": {},
   "source": [
    "### Output files"
   ]
  },
  {
   "cell_type": "code",
   "execution_count": 26,
   "metadata": {},
   "outputs": [],
   "source": [
    "# df1_1_2015.to_csv('data_2015.csv')\n",
    "# df1_1_2010.to_csv('data_2010.csv')\n"
   ]
  },
  {
   "cell_type": "code",
   "execution_count": 27,
   "metadata": {},
   "outputs": [],
   "source": [
    "# county_detail.to_csv('data_county_centroid.csv')"
   ]
  },
  {
   "cell_type": "markdown",
   "metadata": {},
   "source": [
    "### Calculate new catchment populations"
   ]
  },
  {
   "cell_type": "markdown",
   "metadata": {},
   "source": [
    "**2010**"
   ]
  },
  {
   "cell_type": "code",
   "execution_count": 28,
   "metadata": {},
   "outputs": [
    {
     "data": {
      "text/plain": [
       "Index(['county', 'fempop2015_ACS', 'fempop2010_ACS', 'fempop2010_TDC',\n",
       "       'fempop2015_TDC'],\n",
       "      dtype='object')"
      ]
     },
     "execution_count": 28,
     "metadata": {},
     "output_type": "execute_result"
    }
   ],
   "source": [
    "clinic.columns[:5]"
   ]
  },
  {
   "cell_type": "code",
   "execution_count": 29,
   "metadata": {},
   "outputs": [],
   "source": [
    "pop = clinic[['county','fempop2015_TDC', 'fempop2010_TDC']]\n"
   ]
  },
  {
   "cell_type": "code",
   "execution_count": 30,
   "metadata": {},
   "outputs": [
    {
     "data": {
      "text/plain": [
       "Index(['closest_county', 'county', 'closest_distance'], dtype='object')"
      ]
     },
     "execution_count": 30,
     "metadata": {},
     "output_type": "execute_result"
    }
   ],
   "source": [
    "df1_1_2010.columns"
   ]
  },
  {
   "cell_type": "code",
   "execution_count": 31,
   "metadata": {},
   "outputs": [
    {
     "data": {
      "text/html": [
       "<div>\n",
       "<style scoped>\n",
       "    .dataframe tbody tr th:only-of-type {\n",
       "        vertical-align: middle;\n",
       "    }\n",
       "\n",
       "    .dataframe tbody tr th {\n",
       "        vertical-align: top;\n",
       "    }\n",
       "\n",
       "    .dataframe thead th {\n",
       "        text-align: right;\n",
       "    }\n",
       "</style>\n",
       "<table border=\"1\" class=\"dataframe\">\n",
       "  <thead>\n",
       "    <tr style=\"text-align: right;\">\n",
       "      <th></th>\n",
       "      <th>closest_county</th>\n",
       "      <th>county</th>\n",
       "      <th>closest_distance</th>\n",
       "    </tr>\n",
       "  </thead>\n",
       "  <tbody>\n",
       "    <tr>\n",
       "      <th>101</th>\n",
       "      <td>angelina</td>\n",
       "      <td>trinity</td>\n",
       "      <td>32.802964</td>\n",
       "    </tr>\n",
       "    <tr>\n",
       "      <th>81</th>\n",
       "      <td>angelina</td>\n",
       "      <td>polk</td>\n",
       "      <td>34.847860</td>\n",
       "    </tr>\n",
       "    <tr>\n",
       "      <th>85</th>\n",
       "      <td>aransas</td>\n",
       "      <td>refugio</td>\n",
       "      <td>13.003857</td>\n",
       "    </tr>\n",
       "    <tr>\n",
       "      <th>11</th>\n",
       "      <td>aransas</td>\n",
       "      <td>calhoun</td>\n",
       "      <td>26.310291</td>\n",
       "    </tr>\n",
       "    <tr>\n",
       "      <th>105</th>\n",
       "      <td>austin</td>\n",
       "      <td>washington</td>\n",
       "      <td>25.240788</td>\n",
       "    </tr>\n",
       "  </tbody>\n",
       "</table>\n",
       "</div>"
      ],
      "text/plain": [
       "    closest_county      county  closest_distance\n",
       "101       angelina     trinity         32.802964\n",
       "81        angelina        polk         34.847860\n",
       "85         aransas     refugio         13.003857\n",
       "11         aransas     calhoun         26.310291\n",
       "105         austin  washington         25.240788"
      ]
     },
     "execution_count": 31,
     "metadata": {},
     "output_type": "execute_result"
    }
   ],
   "source": [
    "df1_1_2010.head()"
   ]
  },
  {
   "cell_type": "code",
   "execution_count": 32,
   "metadata": {},
   "outputs": [
    {
     "data": {
      "text/html": [
       "<div>\n",
       "<style scoped>\n",
       "    .dataframe tbody tr th:only-of-type {\n",
       "        vertical-align: middle;\n",
       "    }\n",
       "\n",
       "    .dataframe tbody tr th {\n",
       "        vertical-align: top;\n",
       "    }\n",
       "\n",
       "    .dataframe thead th {\n",
       "        text-align: right;\n",
       "    }\n",
       "</style>\n",
       "<table border=\"1\" class=\"dataframe\">\n",
       "  <thead>\n",
       "    <tr style=\"text-align: right;\">\n",
       "      <th></th>\n",
       "      <th>county</th>\n",
       "      <th>fempop2010_TDC</th>\n",
       "    </tr>\n",
       "  </thead>\n",
       "  <tbody>\n",
       "    <tr>\n",
       "      <th>0</th>\n",
       "      <td>anderson</td>\n",
       "      <td>8184</td>\n",
       "    </tr>\n",
       "    <tr>\n",
       "      <th>1</th>\n",
       "      <td>andrews</td>\n",
       "      <td>2922</td>\n",
       "    </tr>\n",
       "    <tr>\n",
       "      <th>2</th>\n",
       "      <td>angelina</td>\n",
       "      <td>17078</td>\n",
       "    </tr>\n",
       "    <tr>\n",
       "      <th>3</th>\n",
       "      <td>aransas</td>\n",
       "      <td>3309</td>\n",
       "    </tr>\n",
       "    <tr>\n",
       "      <th>4</th>\n",
       "      <td>archer</td>\n",
       "      <td>1445</td>\n",
       "    </tr>\n",
       "  </tbody>\n",
       "</table>\n",
       "</div>"
      ],
      "text/plain": [
       "     county  fempop2010_TDC\n",
       "0  anderson            8184\n",
       "1   andrews            2922\n",
       "2  angelina           17078\n",
       "3   aransas            3309\n",
       "4    archer            1445"
      ]
     },
     "execution_count": 32,
     "metadata": {},
     "output_type": "execute_result"
    }
   ],
   "source": [
    "pop[['county','fempop2010_TDC']].head()"
   ]
  },
  {
   "cell_type": "code",
   "execution_count": 33,
   "metadata": {},
   "outputs": [],
   "source": [
    "df1_catch_2010 = df1_1_2010.merge(pop[['county','fempop2010_TDC']],how='inner',on='county')"
   ]
  },
  {
   "cell_type": "code",
   "execution_count": 34,
   "metadata": {},
   "outputs": [],
   "source": [
    "df2_catch_2010 = df1_catch_2010[['closest_county','fempop2010_TDC']].groupby('closest_county').sum().reset_index()"
   ]
  },
  {
   "cell_type": "code",
   "execution_count": 35,
   "metadata": {},
   "outputs": [
    {
     "data": {
      "text/html": [
       "<div>\n",
       "<style scoped>\n",
       "    .dataframe tbody tr th:only-of-type {\n",
       "        vertical-align: middle;\n",
       "    }\n",
       "\n",
       "    .dataframe tbody tr th {\n",
       "        vertical-align: top;\n",
       "    }\n",
       "\n",
       "    .dataframe thead th {\n",
       "        text-align: right;\n",
       "    }\n",
       "</style>\n",
       "<table border=\"1\" class=\"dataframe\">\n",
       "  <thead>\n",
       "    <tr style=\"text-align: right;\">\n",
       "      <th></th>\n",
       "      <th>closest_county</th>\n",
       "      <th>fempop2010_TDC</th>\n",
       "    </tr>\n",
       "  </thead>\n",
       "  <tbody>\n",
       "    <tr>\n",
       "      <th>0</th>\n",
       "      <td>angelina</td>\n",
       "      <td>8872</td>\n",
       "    </tr>\n",
       "    <tr>\n",
       "      <th>1</th>\n",
       "      <td>aransas</td>\n",
       "      <td>5048</td>\n",
       "    </tr>\n",
       "    <tr>\n",
       "      <th>2</th>\n",
       "      <td>austin</td>\n",
       "      <td>9254</td>\n",
       "    </tr>\n",
       "    <tr>\n",
       "      <th>3</th>\n",
       "      <td>baylor</td>\n",
       "      <td>1877</td>\n",
       "    </tr>\n",
       "    <tr>\n",
       "      <th>4</th>\n",
       "      <td>bee</td>\n",
       "      <td>2758</td>\n",
       "    </tr>\n",
       "  </tbody>\n",
       "</table>\n",
       "</div>"
      ],
      "text/plain": [
       "  closest_county  fempop2010_TDC\n",
       "0       angelina            8872\n",
       "1        aransas            5048\n",
       "2         austin            9254\n",
       "3         baylor            1877\n",
       "4            bee            2758"
      ]
     },
     "execution_count": 35,
     "metadata": {},
     "output_type": "execute_result"
    }
   ],
   "source": [
    "df2_catch_2010.head()"
   ]
  },
  {
   "cell_type": "code",
   "execution_count": 36,
   "metadata": {},
   "outputs": [],
   "source": [
    "# expand to list that of counties with clinic, but that do not have catchment counties\n",
    "clc_list = list(clnc_df[clnc_df['totclinic2010'] >0 ]['county'])\n",
    "# \n",
    "no_catch_list = list(set(clc_list) - set(df2_catch_2010.closest_county.to_list()))"
   ]
  },
  {
   "cell_type": "code",
   "execution_count": 37,
   "metadata": {},
   "outputs": [],
   "source": [
    "# create extention data frame, then concat\n",
    "df2_temp_2010 = pd.DataFrame(list( zip(no_catch_list,[0]*len(no_catch_list) ) ),columns=list(df2_catch_2010.columns))\n"
   ]
  },
  {
   "cell_type": "code",
   "execution_count": 38,
   "metadata": {},
   "outputs": [
    {
     "data": {
      "text/html": [
       "<div>\n",
       "<style scoped>\n",
       "    .dataframe tbody tr th:only-of-type {\n",
       "        vertical-align: middle;\n",
       "    }\n",
       "\n",
       "    .dataframe tbody tr th {\n",
       "        vertical-align: top;\n",
       "    }\n",
       "\n",
       "    .dataframe thead th {\n",
       "        text-align: right;\n",
       "    }\n",
       "</style>\n",
       "<table border=\"1\" class=\"dataframe\">\n",
       "  <thead>\n",
       "    <tr style=\"text-align: right;\">\n",
       "      <th></th>\n",
       "      <th>closest_county</th>\n",
       "      <th>fempop2010_TDC</th>\n",
       "    </tr>\n",
       "  </thead>\n",
       "  <tbody>\n",
       "    <tr>\n",
       "      <th>0</th>\n",
       "      <td>bell</td>\n",
       "      <td>0</td>\n",
       "    </tr>\n",
       "    <tr>\n",
       "      <th>1</th>\n",
       "      <td>caldwell</td>\n",
       "      <td>0</td>\n",
       "    </tr>\n",
       "    <tr>\n",
       "      <th>2</th>\n",
       "      <td>cochran</td>\n",
       "      <td>0</td>\n",
       "    </tr>\n",
       "    <tr>\n",
       "      <th>3</th>\n",
       "      <td>winkler</td>\n",
       "      <td>0</td>\n",
       "    </tr>\n",
       "    <tr>\n",
       "      <th>4</th>\n",
       "      <td>orange</td>\n",
       "      <td>0</td>\n",
       "    </tr>\n",
       "  </tbody>\n",
       "</table>\n",
       "</div>"
      ],
      "text/plain": [
       "  closest_county  fempop2010_TDC\n",
       "0           bell               0\n",
       "1       caldwell               0\n",
       "2        cochran               0\n",
       "3        winkler               0\n",
       "4         orange               0"
      ]
     },
     "execution_count": 38,
     "metadata": {},
     "output_type": "execute_result"
    }
   ],
   "source": [
    "df2_temp_2010.head()"
   ]
  },
  {
   "cell_type": "code",
   "execution_count": 39,
   "metadata": {},
   "outputs": [],
   "source": [
    "df3_2010 = pd.concat([df2_catch_2010,df2_temp_2010],ignore_index=True)#,ignore_index=True)"
   ]
  },
  {
   "cell_type": "code",
   "execution_count": 40,
   "metadata": {},
   "outputs": [],
   "source": [
    "df3_2010.columns = ['county','fempop_catch_2010']"
   ]
  },
  {
   "cell_type": "markdown",
   "metadata": {},
   "source": [
    "**2015**"
   ]
  },
  {
   "cell_type": "code",
   "execution_count": 53,
   "metadata": {},
   "outputs": [],
   "source": [
    "df1_catch_2015 = df1_1_2015.merge(pop[['county','fempop2015_TDC']],how='inner',on='county')"
   ]
  },
  {
   "cell_type": "code",
   "execution_count": 54,
   "metadata": {},
   "outputs": [],
   "source": [
    "df2_catch_2015 = df1_catch_2015[['closest_county','fempop2015_TDC']].groupby('closest_county').sum().reset_index()"
   ]
  },
  {
   "cell_type": "code",
   "execution_count": 55,
   "metadata": {},
   "outputs": [
    {
     "data": {
      "text/html": [
       "<div>\n",
       "<style scoped>\n",
       "    .dataframe tbody tr th:only-of-type {\n",
       "        vertical-align: middle;\n",
       "    }\n",
       "\n",
       "    .dataframe tbody tr th {\n",
       "        vertical-align: top;\n",
       "    }\n",
       "\n",
       "    .dataframe thead th {\n",
       "        text-align: right;\n",
       "    }\n",
       "</style>\n",
       "<table border=\"1\" class=\"dataframe\">\n",
       "  <thead>\n",
       "    <tr style=\"text-align: right;\">\n",
       "      <th></th>\n",
       "      <th>closest_county</th>\n",
       "      <th>fempop2015_TDC</th>\n",
       "    </tr>\n",
       "  </thead>\n",
       "  <tbody>\n",
       "    <tr>\n",
       "      <th>0</th>\n",
       "      <td>aransas</td>\n",
       "      <td>5001</td>\n",
       "    </tr>\n",
       "    <tr>\n",
       "      <th>1</th>\n",
       "      <td>austin</td>\n",
       "      <td>3327</td>\n",
       "    </tr>\n",
       "    <tr>\n",
       "      <th>2</th>\n",
       "      <td>bailey</td>\n",
       "      <td>2268</td>\n",
       "    </tr>\n",
       "    <tr>\n",
       "      <th>3</th>\n",
       "      <td>bell</td>\n",
       "      <td>18068</td>\n",
       "    </tr>\n",
       "    <tr>\n",
       "      <th>4</th>\n",
       "      <td>brooks</td>\n",
       "      <td>907</td>\n",
       "    </tr>\n",
       "  </tbody>\n",
       "</table>\n",
       "</div>"
      ],
      "text/plain": [
       "  closest_county  fempop2015_TDC\n",
       "0        aransas            5001\n",
       "1         austin            3327\n",
       "2         bailey            2268\n",
       "3           bell           18068\n",
       "4         brooks             907"
      ]
     },
     "execution_count": 55,
     "metadata": {},
     "output_type": "execute_result"
    }
   ],
   "source": [
    "df2_catch_2015.head()"
   ]
  },
  {
   "cell_type": "code",
   "execution_count": 56,
   "metadata": {},
   "outputs": [],
   "source": [
    "# expand to list that of counties with clinic, but that do not have catchment counties\n",
    "clc_list = list(clnc_df[clnc_df['totclin2015'] >0 ]['county'])\n",
    "no_catch_list = list(set(clc_list) - set(df2_catch_2015.closest_county.to_list()))"
   ]
  },
  {
   "cell_type": "code",
   "execution_count": 57,
   "metadata": {},
   "outputs": [],
   "source": [
    "# create extention data frame, then concat\n",
    "df2_temp_2015 = pd.DataFrame(list( zip(no_catch_list,[0]*len(no_catch_list) ) ),columns=list(df2_catch_2015.columns))\n"
   ]
  },
  {
   "cell_type": "code",
   "execution_count": 58,
   "metadata": {},
   "outputs": [],
   "source": [
    "df3_2015 = pd.concat([df2_catch_2015,df2_temp_2015],ignore_index=True)#,ignore_index=True)"
   ]
  },
  {
   "cell_type": "code",
   "execution_count": 59,
   "metadata": {},
   "outputs": [],
   "source": [
    "df3_2015.columns = ['county','fempop_catch_2015']"
   ]
  },
  {
   "cell_type": "code",
   "execution_count": 60,
   "metadata": {},
   "outputs": [
    {
     "data": {
      "text/html": [
       "<div>\n",
       "<style scoped>\n",
       "    .dataframe tbody tr th:only-of-type {\n",
       "        vertical-align: middle;\n",
       "    }\n",
       "\n",
       "    .dataframe tbody tr th {\n",
       "        vertical-align: top;\n",
       "    }\n",
       "\n",
       "    .dataframe thead th {\n",
       "        text-align: right;\n",
       "    }\n",
       "</style>\n",
       "<table border=\"1\" class=\"dataframe\">\n",
       "  <thead>\n",
       "    <tr style=\"text-align: right;\">\n",
       "      <th></th>\n",
       "      <th>county</th>\n",
       "      <th>fempop_catch_2015</th>\n",
       "    </tr>\n",
       "  </thead>\n",
       "  <tbody>\n",
       "    <tr>\n",
       "      <th>0</th>\n",
       "      <td>aransas</td>\n",
       "      <td>5001</td>\n",
       "    </tr>\n",
       "    <tr>\n",
       "      <th>1</th>\n",
       "      <td>austin</td>\n",
       "      <td>3327</td>\n",
       "    </tr>\n",
       "    <tr>\n",
       "      <th>2</th>\n",
       "      <td>bailey</td>\n",
       "      <td>2268</td>\n",
       "    </tr>\n",
       "    <tr>\n",
       "      <th>3</th>\n",
       "      <td>bell</td>\n",
       "      <td>18068</td>\n",
       "    </tr>\n",
       "    <tr>\n",
       "      <th>4</th>\n",
       "      <td>brooks</td>\n",
       "      <td>907</td>\n",
       "    </tr>\n",
       "  </tbody>\n",
       "</table>\n",
       "</div>"
      ],
      "text/plain": [
       "    county  fempop_catch_2015\n",
       "0  aransas               5001\n",
       "1   austin               3327\n",
       "2   bailey               2268\n",
       "3     bell              18068\n",
       "4   brooks                907"
      ]
     },
     "execution_count": 60,
     "metadata": {},
     "output_type": "execute_result"
    }
   ],
   "source": [
    "df3_2015.head()"
   ]
  },
  {
   "cell_type": "markdown",
   "metadata": {},
   "source": [
    "**Update Master Clinic Table**<br>\n",
    "New fields:<br>\n",
    "* 2010 Catchment Fempop - fpop_cat_2010\n",
    "* 2010 Total Fempop - fpop_tot_2010\n",
    "* 2015 Catchment Fempop  - fpop_cat_2015\n",
    "* 2015 Total Fempop - fpop_tot_2015\n",
    "\n"
   ]
  },
  {
   "cell_type": "code",
   "execution_count": 61,
   "metadata": {},
   "outputs": [],
   "source": [
    "clinic2 = clinic.merge(df3_2010,how='left',on='county')\n"
   ]
  },
  {
   "cell_type": "code",
   "execution_count": 62,
   "metadata": {},
   "outputs": [],
   "source": [
    "clinic3 = clinic2.merge(df3_2015,how='left',on='county')\n"
   ]
  },
  {
   "cell_type": "code",
   "execution_count": 63,
   "metadata": {},
   "outputs": [],
   "source": [
    "temp_2010 = clinic3['fempop_catch_2010'] + clinic3['fempop2010_TDC']\n",
    "temp_2015 = clinic3['fempop_catch_2015'] + clinic3['fempop2015_TDC']"
   ]
  },
  {
   "cell_type": "code",
   "execution_count": 64,
   "metadata": {},
   "outputs": [],
   "source": [
    "clinic3['fempop_tot_2010'] = temp_2010\n",
    "clinic3['fempop_tot_2015'] = temp_2015"
   ]
  },
  {
   "cell_type": "code",
   "execution_count": 65,
   "metadata": {},
   "outputs": [
    {
     "data": {
      "text/html": [
       "<div>\n",
       "<style scoped>\n",
       "    .dataframe tbody tr th:only-of-type {\n",
       "        vertical-align: middle;\n",
       "    }\n",
       "\n",
       "    .dataframe tbody tr th {\n",
       "        vertical-align: top;\n",
       "    }\n",
       "\n",
       "    .dataframe thead th {\n",
       "        text-align: right;\n",
       "    }\n",
       "</style>\n",
       "<table border=\"1\" class=\"dataframe\">\n",
       "  <thead>\n",
       "    <tr style=\"text-align: right;\">\n",
       "      <th></th>\n",
       "      <th>county</th>\n",
       "      <th>fempop2015_ACS</th>\n",
       "      <th>fempop2010_ACS</th>\n",
       "      <th>fempop2010_TDC</th>\n",
       "      <th>fempop2015_TDC</th>\n",
       "      <th>whitefempop2015_TDC</th>\n",
       "      <th>blackfempop2015_TDC</th>\n",
       "      <th>otherfempop2015_TDC</th>\n",
       "      <th>hispfempop2015_TDC</th>\n",
       "      <th>job2015all</th>\n",
       "      <th>...</th>\n",
       "      <th>pccm2010</th>\n",
       "      <th>mco2010</th>\n",
       "      <th>Medtot2010</th>\n",
       "      <th>HSR (8)</th>\n",
       "      <th>border</th>\n",
       "      <th>metro</th>\n",
       "      <th>fempop_catch_2010</th>\n",
       "      <th>fempop_catch_2015</th>\n",
       "      <th>fempop_tot_2010</th>\n",
       "      <th>fempop_tot_2015</th>\n",
       "    </tr>\n",
       "  </thead>\n",
       "  <tbody>\n",
       "    <tr>\n",
       "      <th>0</th>\n",
       "      <td>anderson</td>\n",
       "      <td>7811.208</td>\n",
       "      <td>8768.696</td>\n",
       "      <td>8184</td>\n",
       "      <td>8017</td>\n",
       "      <td>4954</td>\n",
       "      <td>1171</td>\n",
       "      <td>278</td>\n",
       "      <td>1614</td>\n",
       "      <td>41.4</td>\n",
       "      <td>...</td>\n",
       "      <td>322</td>\n",
       "      <td>0</td>\n",
       "      <td>359</td>\n",
       "      <td>3</td>\n",
       "      <td>0</td>\n",
       "      <td>1</td>\n",
       "      <td>NaN</td>\n",
       "      <td>NaN</td>\n",
       "      <td>NaN</td>\n",
       "      <td>NaN</td>\n",
       "    </tr>\n",
       "    <tr>\n",
       "      <th>1</th>\n",
       "      <td>andrews</td>\n",
       "      <td>3237.892</td>\n",
       "      <td>2774.236</td>\n",
       "      <td>2922</td>\n",
       "      <td>3449</td>\n",
       "      <td>1380</td>\n",
       "      <td>41</td>\n",
       "      <td>63</td>\n",
       "      <td>1965</td>\n",
       "      <td>64.8</td>\n",
       "      <td>...</td>\n",
       "      <td>104</td>\n",
       "      <td>0</td>\n",
       "      <td>111</td>\n",
       "      <td>7</td>\n",
       "      <td>0</td>\n",
       "      <td>1</td>\n",
       "      <td>0.0</td>\n",
       "      <td>0.0</td>\n",
       "      <td>2922.0</td>\n",
       "      <td>3449.0</td>\n",
       "    </tr>\n",
       "    <tr>\n",
       "      <th>2</th>\n",
       "      <td>angelina</td>\n",
       "      <td>17227.008</td>\n",
       "      <td>16998.540</td>\n",
       "      <td>17078</td>\n",
       "      <td>17139</td>\n",
       "      <td>9264</td>\n",
       "      <td>2904</td>\n",
       "      <td>495</td>\n",
       "      <td>4476</td>\n",
       "      <td>54.2</td>\n",
       "      <td>...</td>\n",
       "      <td>641</td>\n",
       "      <td>0</td>\n",
       "      <td>680</td>\n",
       "      <td>3</td>\n",
       "      <td>0</td>\n",
       "      <td>1</td>\n",
       "      <td>8872.0</td>\n",
       "      <td>NaN</td>\n",
       "      <td>25950.0</td>\n",
       "      <td>NaN</td>\n",
       "    </tr>\n",
       "    <tr>\n",
       "      <th>3</th>\n",
       "      <td>aransas</td>\n",
       "      <td>3518.907</td>\n",
       "      <td>3753.496</td>\n",
       "      <td>3309</td>\n",
       "      <td>3373</td>\n",
       "      <td>1909</td>\n",
       "      <td>29</td>\n",
       "      <td>151</td>\n",
       "      <td>1284</td>\n",
       "      <td>46.7</td>\n",
       "      <td>...</td>\n",
       "      <td>7</td>\n",
       "      <td>143</td>\n",
       "      <td>158</td>\n",
       "      <td>8</td>\n",
       "      <td>0</td>\n",
       "      <td>1</td>\n",
       "      <td>5048.0</td>\n",
       "      <td>5001.0</td>\n",
       "      <td>8357.0</td>\n",
       "      <td>8374.0</td>\n",
       "    </tr>\n",
       "    <tr>\n",
       "      <th>4</th>\n",
       "      <td>archer</td>\n",
       "      <td>1453.650</td>\n",
       "      <td>1504.368</td>\n",
       "      <td>1445</td>\n",
       "      <td>1546</td>\n",
       "      <td>1351</td>\n",
       "      <td>7</td>\n",
       "      <td>26</td>\n",
       "      <td>162</td>\n",
       "      <td>59.7</td>\n",
       "      <td>...</td>\n",
       "      <td>14</td>\n",
       "      <td>0</td>\n",
       "      <td>15</td>\n",
       "      <td>2</td>\n",
       "      <td>0</td>\n",
       "      <td>2</td>\n",
       "      <td>NaN</td>\n",
       "      <td>NaN</td>\n",
       "      <td>NaN</td>\n",
       "      <td>NaN</td>\n",
       "    </tr>\n",
       "  </tbody>\n",
       "</table>\n",
       "<p>5 rows × 110 columns</p>\n",
       "</div>"
      ],
      "text/plain": [
       "     county  fempop2015_ACS  fempop2010_ACS  fempop2010_TDC  fempop2015_TDC  \\\n",
       "0  anderson        7811.208        8768.696            8184            8017   \n",
       "1   andrews        3237.892        2774.236            2922            3449   \n",
       "2  angelina       17227.008       16998.540           17078           17139   \n",
       "3   aransas        3518.907        3753.496            3309            3373   \n",
       "4    archer        1453.650        1504.368            1445            1546   \n",
       "\n",
       "   whitefempop2015_TDC  blackfempop2015_TDC  otherfempop2015_TDC  \\\n",
       "0                 4954                 1171                  278   \n",
       "1                 1380                   41                   63   \n",
       "2                 9264                 2904                  495   \n",
       "3                 1909                   29                  151   \n",
       "4                 1351                    7                   26   \n",
       "\n",
       "   hispfempop2015_TDC  job2015all  ...  pccm2010  mco2010  Medtot2010  \\\n",
       "0                1614        41.4  ...       322        0         359   \n",
       "1                1965        64.8  ...       104        0         111   \n",
       "2                4476        54.2  ...       641        0         680   \n",
       "3                1284        46.7  ...         7      143         158   \n",
       "4                 162        59.7  ...        14        0          15   \n",
       "\n",
       "   HSR (8)  border  metro  fempop_catch_2010  fempop_catch_2015  \\\n",
       "0        3       0      1                NaN                NaN   \n",
       "1        7       0      1                0.0                0.0   \n",
       "2        3       0      1             8872.0                NaN   \n",
       "3        8       0      1             5048.0             5001.0   \n",
       "4        2       0      2                NaN                NaN   \n",
       "\n",
       "   fempop_tot_2010  fempop_tot_2015  \n",
       "0              NaN              NaN  \n",
       "1           2922.0           3449.0  \n",
       "2          25950.0              NaN  \n",
       "3           8357.0           8374.0  \n",
       "4              NaN              NaN  \n",
       "\n",
       "[5 rows x 110 columns]"
      ]
     },
     "execution_count": 65,
     "metadata": {},
     "output_type": "execute_result"
    }
   ],
   "source": [
    "clinic3.head()"
   ]
  },
  {
   "cell_type": "code",
   "execution_count": 66,
   "metadata": {},
   "outputs": [],
   "source": [
    "#clinic3.to_excel('clinic_data.xlsx',index=False)"
   ]
  },
  {
   "cell_type": "markdown",
   "metadata": {},
   "source": [
    "### to DO\n",
    "\n",
    "* add a closest clinic column for each time period\n",
    "\n",
    "**Create two new columns**<br>\n",
    "* distance_toclincic_2010\n",
    "* distance_toclincic_2015"
   ]
  },
  {
   "cell_type": "code",
   "execution_count": 45,
   "metadata": {},
   "outputs": [],
   "source": [
    "temp = df1_1_2010[['county', 'closest_distance']]\n",
    "temp.columns =['county', 'distance_toclincic_2010']"
   ]
  },
  {
   "cell_type": "code",
   "execution_count": 46,
   "metadata": {},
   "outputs": [
    {
     "data": {
      "text/html": [
       "<div>\n",
       "<style scoped>\n",
       "    .dataframe tbody tr th:only-of-type {\n",
       "        vertical-align: middle;\n",
       "    }\n",
       "\n",
       "    .dataframe tbody tr th {\n",
       "        vertical-align: top;\n",
       "    }\n",
       "\n",
       "    .dataframe thead th {\n",
       "        text-align: right;\n",
       "    }\n",
       "</style>\n",
       "<table border=\"1\" class=\"dataframe\">\n",
       "  <thead>\n",
       "    <tr style=\"text-align: right;\">\n",
       "      <th></th>\n",
       "      <th>county</th>\n",
       "      <th>distance_toclincic_2010</th>\n",
       "    </tr>\n",
       "  </thead>\n",
       "  <tbody>\n",
       "    <tr>\n",
       "      <th>101</th>\n",
       "      <td>trinity</td>\n",
       "      <td>32.802964</td>\n",
       "    </tr>\n",
       "    <tr>\n",
       "      <th>81</th>\n",
       "      <td>polk</td>\n",
       "      <td>34.847860</td>\n",
       "    </tr>\n",
       "    <tr>\n",
       "      <th>85</th>\n",
       "      <td>refugio</td>\n",
       "      <td>13.003857</td>\n",
       "    </tr>\n",
       "    <tr>\n",
       "      <th>11</th>\n",
       "      <td>calhoun</td>\n",
       "      <td>26.310291</td>\n",
       "    </tr>\n",
       "    <tr>\n",
       "      <th>105</th>\n",
       "      <td>washington</td>\n",
       "      <td>25.240788</td>\n",
       "    </tr>\n",
       "  </tbody>\n",
       "</table>\n",
       "</div>"
      ],
      "text/plain": [
       "         county  distance_toclincic_2010\n",
       "101     trinity                32.802964\n",
       "81         polk                34.847860\n",
       "85      refugio                13.003857\n",
       "11      calhoun                26.310291\n",
       "105  washington                25.240788"
      ]
     },
     "execution_count": 46,
     "metadata": {},
     "output_type": "execute_result"
    }
   ],
   "source": [
    "temp.head()"
   ]
  },
  {
   "cell_type": "code",
   "execution_count": 67,
   "metadata": {},
   "outputs": [],
   "source": [
    "clinic3 = clinic3.merge(temp,how='left',on='county')"
   ]
  },
  {
   "cell_type": "code",
   "execution_count": 70,
   "metadata": {},
   "outputs": [],
   "source": [
    "temp = df1_1_2015[['county', 'closest_distance']]\n",
    "temp.columns =['county', 'distance_toclincic_2015']\n"
   ]
  },
  {
   "cell_type": "code",
   "execution_count": 71,
   "metadata": {},
   "outputs": [],
   "source": [
    "clinic3 = clinic3.merge(temp,how='left',on='county')"
   ]
  },
  {
   "cell_type": "code",
   "execution_count": 72,
   "metadata": {},
   "outputs": [
    {
     "data": {
      "text/html": [
       "<div>\n",
       "<style scoped>\n",
       "    .dataframe tbody tr th:only-of-type {\n",
       "        vertical-align: middle;\n",
       "    }\n",
       "\n",
       "    .dataframe tbody tr th {\n",
       "        vertical-align: top;\n",
       "    }\n",
       "\n",
       "    .dataframe thead th {\n",
       "        text-align: right;\n",
       "    }\n",
       "</style>\n",
       "<table border=\"1\" class=\"dataframe\">\n",
       "  <thead>\n",
       "    <tr style=\"text-align: right;\">\n",
       "      <th></th>\n",
       "      <th>county</th>\n",
       "      <th>fempop2015_ACS</th>\n",
       "      <th>fempop2010_ACS</th>\n",
       "      <th>fempop2010_TDC</th>\n",
       "      <th>fempop2015_TDC</th>\n",
       "      <th>whitefempop2015_TDC</th>\n",
       "      <th>blackfempop2015_TDC</th>\n",
       "      <th>otherfempop2015_TDC</th>\n",
       "      <th>hispfempop2015_TDC</th>\n",
       "      <th>job2015all</th>\n",
       "      <th>...</th>\n",
       "      <th>Medtot2010</th>\n",
       "      <th>HSR (8)</th>\n",
       "      <th>border</th>\n",
       "      <th>metro</th>\n",
       "      <th>fempop_catch_2010</th>\n",
       "      <th>fempop_catch_2015</th>\n",
       "      <th>fempop_tot_2010</th>\n",
       "      <th>fempop_tot_2015</th>\n",
       "      <th>distance_toclincic_2010</th>\n",
       "      <th>distance_toclincic_2015</th>\n",
       "    </tr>\n",
       "  </thead>\n",
       "  <tbody>\n",
       "    <tr>\n",
       "      <th>0</th>\n",
       "      <td>anderson</td>\n",
       "      <td>7811.208</td>\n",
       "      <td>8768.696</td>\n",
       "      <td>8184</td>\n",
       "      <td>8017</td>\n",
       "      <td>4954</td>\n",
       "      <td>1171</td>\n",
       "      <td>278</td>\n",
       "      <td>1614</td>\n",
       "      <td>41.4</td>\n",
       "      <td>...</td>\n",
       "      <td>359</td>\n",
       "      <td>3</td>\n",
       "      <td>0</td>\n",
       "      <td>1</td>\n",
       "      <td>NaN</td>\n",
       "      <td>NaN</td>\n",
       "      <td>NaN</td>\n",
       "      <td>NaN</td>\n",
       "      <td>28.589673</td>\n",
       "      <td>28.589673</td>\n",
       "    </tr>\n",
       "    <tr>\n",
       "      <th>1</th>\n",
       "      <td>andrews</td>\n",
       "      <td>3237.892</td>\n",
       "      <td>2774.236</td>\n",
       "      <td>2922</td>\n",
       "      <td>3449</td>\n",
       "      <td>1380</td>\n",
       "      <td>41</td>\n",
       "      <td>63</td>\n",
       "      <td>1965</td>\n",
       "      <td>64.8</td>\n",
       "      <td>...</td>\n",
       "      <td>111</td>\n",
       "      <td>7</td>\n",
       "      <td>0</td>\n",
       "      <td>1</td>\n",
       "      <td>0.0</td>\n",
       "      <td>0.0</td>\n",
       "      <td>2922.0</td>\n",
       "      <td>3449.0</td>\n",
       "      <td>NaN</td>\n",
       "      <td>NaN</td>\n",
       "    </tr>\n",
       "    <tr>\n",
       "      <th>2</th>\n",
       "      <td>angelina</td>\n",
       "      <td>17227.008</td>\n",
       "      <td>16998.540</td>\n",
       "      <td>17078</td>\n",
       "      <td>17139</td>\n",
       "      <td>9264</td>\n",
       "      <td>2904</td>\n",
       "      <td>495</td>\n",
       "      <td>4476</td>\n",
       "      <td>54.2</td>\n",
       "      <td>...</td>\n",
       "      <td>680</td>\n",
       "      <td>3</td>\n",
       "      <td>0</td>\n",
       "      <td>1</td>\n",
       "      <td>8872.0</td>\n",
       "      <td>NaN</td>\n",
       "      <td>25950.0</td>\n",
       "      <td>NaN</td>\n",
       "      <td>NaN</td>\n",
       "      <td>20.794900</td>\n",
       "    </tr>\n",
       "    <tr>\n",
       "      <th>3</th>\n",
       "      <td>aransas</td>\n",
       "      <td>3518.907</td>\n",
       "      <td>3753.496</td>\n",
       "      <td>3309</td>\n",
       "      <td>3373</td>\n",
       "      <td>1909</td>\n",
       "      <td>29</td>\n",
       "      <td>151</td>\n",
       "      <td>1284</td>\n",
       "      <td>46.7</td>\n",
       "      <td>...</td>\n",
       "      <td>158</td>\n",
       "      <td>8</td>\n",
       "      <td>0</td>\n",
       "      <td>1</td>\n",
       "      <td>5048.0</td>\n",
       "      <td>5001.0</td>\n",
       "      <td>8357.0</td>\n",
       "      <td>8374.0</td>\n",
       "      <td>NaN</td>\n",
       "      <td>NaN</td>\n",
       "    </tr>\n",
       "    <tr>\n",
       "      <th>4</th>\n",
       "      <td>archer</td>\n",
       "      <td>1453.650</td>\n",
       "      <td>1504.368</td>\n",
       "      <td>1445</td>\n",
       "      <td>1546</td>\n",
       "      <td>1351</td>\n",
       "      <td>7</td>\n",
       "      <td>26</td>\n",
       "      <td>162</td>\n",
       "      <td>59.7</td>\n",
       "      <td>...</td>\n",
       "      <td>15</td>\n",
       "      <td>2</td>\n",
       "      <td>0</td>\n",
       "      <td>2</td>\n",
       "      <td>NaN</td>\n",
       "      <td>NaN</td>\n",
       "      <td>NaN</td>\n",
       "      <td>NaN</td>\n",
       "      <td>26.615393</td>\n",
       "      <td>26.615393</td>\n",
       "    </tr>\n",
       "  </tbody>\n",
       "</table>\n",
       "<p>5 rows × 112 columns</p>\n",
       "</div>"
      ],
      "text/plain": [
       "     county  fempop2015_ACS  fempop2010_ACS  fempop2010_TDC  fempop2015_TDC  \\\n",
       "0  anderson        7811.208        8768.696            8184            8017   \n",
       "1   andrews        3237.892        2774.236            2922            3449   \n",
       "2  angelina       17227.008       16998.540           17078           17139   \n",
       "3   aransas        3518.907        3753.496            3309            3373   \n",
       "4    archer        1453.650        1504.368            1445            1546   \n",
       "\n",
       "   whitefempop2015_TDC  blackfempop2015_TDC  otherfempop2015_TDC  \\\n",
       "0                 4954                 1171                  278   \n",
       "1                 1380                   41                   63   \n",
       "2                 9264                 2904                  495   \n",
       "3                 1909                   29                  151   \n",
       "4                 1351                    7                   26   \n",
       "\n",
       "   hispfempop2015_TDC  job2015all  ...  Medtot2010  HSR (8)  border  metro  \\\n",
       "0                1614        41.4  ...         359        3       0      1   \n",
       "1                1965        64.8  ...         111        7       0      1   \n",
       "2                4476        54.2  ...         680        3       0      1   \n",
       "3                1284        46.7  ...         158        8       0      1   \n",
       "4                 162        59.7  ...          15        2       0      2   \n",
       "\n",
       "   fempop_catch_2010  fempop_catch_2015  fempop_tot_2010  fempop_tot_2015  \\\n",
       "0                NaN                NaN              NaN              NaN   \n",
       "1                0.0                0.0           2922.0           3449.0   \n",
       "2             8872.0                NaN          25950.0              NaN   \n",
       "3             5048.0             5001.0           8357.0           8374.0   \n",
       "4                NaN                NaN              NaN              NaN   \n",
       "\n",
       "   distance_toclincic_2010  distance_toclincic_2015  \n",
       "0                28.589673                28.589673  \n",
       "1                      NaN                      NaN  \n",
       "2                      NaN                20.794900  \n",
       "3                      NaN                      NaN  \n",
       "4                26.615393                26.615393  \n",
       "\n",
       "[5 rows x 112 columns]"
      ]
     },
     "execution_count": 72,
     "metadata": {},
     "output_type": "execute_result"
    }
   ],
   "source": [
    "clinic3.head()"
   ]
  },
  {
   "cell_type": "code",
   "execution_count": 73,
   "metadata": {},
   "outputs": [],
   "source": [
    "clinic3.to_excel('clinic_data_2_26.xlsx',index=False)"
   ]
  },
  {
   "cell_type": "code",
   "execution_count": null,
   "metadata": {},
   "outputs": [],
   "source": []
  }
 ],
 "metadata": {
  "interpreter": {
   "hash": "622be5046a7514208b31c5ff270f0a4cea8aaf7bb018599c2e4329f73ecf086c"
  },
  "kernelspec": {
   "display_name": "Python 3.8.8 64-bit ('base': conda)",
   "language": "python",
   "name": "python3"
  },
  "language_info": {
   "codemirror_mode": {
    "name": "ipython",
    "version": 3
   },
   "file_extension": ".py",
   "mimetype": "text/x-python",
   "name": "python",
   "nbconvert_exporter": "python",
   "pygments_lexer": "ipython3",
   "version": "3.8.12"
  },
  "orig_nbformat": 4
 },
 "nbformat": 4,
 "nbformat_minor": 2
}
