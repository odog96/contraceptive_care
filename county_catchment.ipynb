{
 "cells": [
  {
   "cell_type": "code",
   "execution_count": 2,
   "metadata": {},
   "outputs": [],
   "source": [
    "import pandas as pd\n",
    "import numpy as np\n",
    "import json\n",
    "import io\n",
    "from io import StringIO\n",
    "import os\n",
    "\n",
    "from shapely.geometry import Point, LineString\n",
    "from shapely.geometry.polygon import Polygon\n",
    "from shapely import wkt\n",
    "\n",
    "from math import sin, cos, sqrt, atan2, radians\n"
   ]
  },
  {
   "cell_type": "markdown",
   "metadata": {},
   "source": [
    "## Data captures from \n",
    "https://gis-txdot.opendata.arcgis.com/datasets/TXDOT::texas-county-boundaries-detailed/about\n"
   ]
  },
  {
   "cell_type": "code",
   "execution_count": 4,
   "metadata": {},
   "outputs": [],
   "source": [
    "# Opening JSON file\n",
    "f = open('.geojson')\n",
    "# returns JSON object as\n",
    "# a dictionary\n",
    "data = json.load(f)"
   ]
  },
  {
   "cell_type": "code",
   "execution_count": 154,
   "metadata": {},
   "outputs": [],
   "source": [
    "county_detail = []\n",
    "for i in range(len(data['features'])):\n",
    "    ft_obj = data['features'][i]['properties']\n",
    "    county = ft_obj['CNTY_NM']\n",
    "    polygon_temp = data['features'][i]['geometry']['coordinates'][0][0]\n",
    "    line = LineString(polygon_temp)\n",
    "    centroid = line.centroid.wkt\n",
    "    county_detail.append({'county':county,'centroid':centroid})"
   ]
  },
  {
   "cell_type": "code",
   "execution_count": 155,
   "metadata": {},
   "outputs": [],
   "source": [
    "county_detail = pd.DataFrame(county_detail)"
   ]
  },
  {
   "cell_type": "code",
   "execution_count": 156,
   "metadata": {},
   "outputs": [
    {
     "data": {
      "text/html": [
       "<div>\n",
       "<style scoped>\n",
       "    .dataframe tbody tr th:only-of-type {\n",
       "        vertical-align: middle;\n",
       "    }\n",
       "\n",
       "    .dataframe tbody tr th {\n",
       "        vertical-align: top;\n",
       "    }\n",
       "\n",
       "    .dataframe thead th {\n",
       "        text-align: right;\n",
       "    }\n",
       "</style>\n",
       "<table border=\"1\" class=\"dataframe\">\n",
       "  <thead>\n",
       "    <tr style=\"text-align: right;\">\n",
       "      <th></th>\n",
       "      <th>county</th>\n",
       "      <th>centroid</th>\n",
       "    </tr>\n",
       "  </thead>\n",
       "  <tbody>\n",
       "    <tr>\n",
       "      <th>0</th>\n",
       "      <td>Atascosa</td>\n",
       "      <td>POINT (-98.52550129237503 28.89332098109323)</td>\n",
       "    </tr>\n",
       "    <tr>\n",
       "      <th>1</th>\n",
       "      <td>Matagorda</td>\n",
       "      <td>POINT (-95.99530169303894 28.84771261549633)</td>\n",
       "    </tr>\n",
       "    <tr>\n",
       "      <th>2</th>\n",
       "      <td>Jackson</td>\n",
       "      <td>POINT (-96.56923395706752 28.8874181215156)</td>\n",
       "    </tr>\n",
       "    <tr>\n",
       "      <th>3</th>\n",
       "      <td>De Witt</td>\n",
       "      <td>POINT (-97.36382516011945 29.07072652031978)</td>\n",
       "    </tr>\n",
       "    <tr>\n",
       "      <th>4</th>\n",
       "      <td>Wilson</td>\n",
       "      <td>POINT (-98.07891405628709 29.18641646756914)</td>\n",
       "    </tr>\n",
       "  </tbody>\n",
       "</table>\n",
       "</div>"
      ],
      "text/plain": [
       "      county                                      centroid\n",
       "0   Atascosa  POINT (-98.52550129237503 28.89332098109323)\n",
       "1  Matagorda  POINT (-95.99530169303894 28.84771261549633)\n",
       "2    Jackson   POINT (-96.56923395706752 28.8874181215156)\n",
       "3    De Witt  POINT (-97.36382516011945 29.07072652031978)\n",
       "4     Wilson  POINT (-98.07891405628709 29.18641646756914)"
      ]
     },
     "execution_count": 156,
     "metadata": {},
     "output_type": "execute_result"
    }
   ],
   "source": [
    "county_detail.head()"
   ]
  },
  {
   "cell_type": "markdown",
   "metadata": {},
   "source": [
    "### Clean up Data frame"
   ]
  },
  {
   "cell_type": "code",
   "execution_count": 157,
   "metadata": {},
   "outputs": [
    {
     "name": "stderr",
     "output_type": "stream",
     "text": [
      "C:\\Users\\olive\\AppData\\Local\\Temp/ipykernel_6280/1337451407.py:2: FutureWarning: The default value of regex will change from True to False in a future version.\n",
      "  county_detail['centroid'] = county_detail['centroid'].str.replace('POINT \\(','')\n",
      "C:\\Users\\olive\\AppData\\Local\\Temp/ipykernel_6280/1337451407.py:3: FutureWarning: The default value of regex will change from True to False in a future version.\n",
      "  county_detail['centroid'] = county_detail['centroid'].str.replace('\\)','')\n"
     ]
    }
   ],
   "source": [
    "## Remove 'POINT (' , trailing close parentasis, replace space for ,\n",
    "county_detail['centroid'] = county_detail['centroid'].str.replace('POINT \\(','')\n",
    "county_detail['centroid'] = county_detail['centroid'].str.replace('\\)','')\n",
    "county_detail['centroid'] = county_detail['centroid'].str.replace(' ',',')\n",
    "# create new lat / long fields\n",
    "county_detail['longitude'] = county_detail['centroid'].astype(str).str.split(',').str[0]\n",
    "county_detail['latitude'] = county_detail['centroid'].astype(str).str.split(',').str[1]\n",
    "# make series float\n",
    "county_detail['longitude'] = county_detail['longitude'].astype(float)\n",
    "county_detail['latitude'] = county_detail['latitude'].astype(float)\n",
    "# lower case counties\n",
    "county_detail['county'] = [x.lower() for x in county_detail['county']]\n",
    "# there was discprepency between 2 lists on dewitt county\n",
    "county_detail['county'] = county_detail['county'].str.replace('de witt','dewitt')\n"
   ]
  },
  {
   "cell_type": "code",
   "execution_count": 162,
   "metadata": {},
   "outputs": [
    {
     "data": {
      "text/html": [
       "<div>\n",
       "<style scoped>\n",
       "    .dataframe tbody tr th:only-of-type {\n",
       "        vertical-align: middle;\n",
       "    }\n",
       "\n",
       "    .dataframe tbody tr th {\n",
       "        vertical-align: top;\n",
       "    }\n",
       "\n",
       "    .dataframe thead th {\n",
       "        text-align: right;\n",
       "    }\n",
       "</style>\n",
       "<table border=\"1\" class=\"dataframe\">\n",
       "  <thead>\n",
       "    <tr style=\"text-align: right;\">\n",
       "      <th></th>\n",
       "      <th>county</th>\n",
       "      <th>centroid</th>\n",
       "      <th>longitude</th>\n",
       "      <th>latitude</th>\n",
       "    </tr>\n",
       "  </thead>\n",
       "  <tbody>\n",
       "    <tr>\n",
       "      <th>0</th>\n",
       "      <td>atascosa</td>\n",
       "      <td>-98.52550129237503,28.89332098109323</td>\n",
       "      <td>-98.52550129237503</td>\n",
       "      <td>28.89332098109323</td>\n",
       "    </tr>\n",
       "    <tr>\n",
       "      <th>1</th>\n",
       "      <td>matagorda</td>\n",
       "      <td>-95.99530169303894,28.84771261549633</td>\n",
       "      <td>-95.99530169303894</td>\n",
       "      <td>28.84771261549633</td>\n",
       "    </tr>\n",
       "    <tr>\n",
       "      <th>2</th>\n",
       "      <td>jackson</td>\n",
       "      <td>-96.56923395706752,28.8874181215156</td>\n",
       "      <td>-96.56923395706752</td>\n",
       "      <td>28.8874181215156</td>\n",
       "    </tr>\n",
       "    <tr>\n",
       "      <th>3</th>\n",
       "      <td>dewitt</td>\n",
       "      <td>-97.36382516011945,29.07072652031978</td>\n",
       "      <td>-97.36382516011945</td>\n",
       "      <td>29.07072652031978</td>\n",
       "    </tr>\n",
       "    <tr>\n",
       "      <th>4</th>\n",
       "      <td>wilson</td>\n",
       "      <td>-98.07891405628709,29.18641646756914</td>\n",
       "      <td>-98.07891405628709</td>\n",
       "      <td>29.18641646756914</td>\n",
       "    </tr>\n",
       "  </tbody>\n",
       "</table>\n",
       "</div>"
      ],
      "text/plain": [
       "      county                              centroid           longitude  \\\n",
       "0   atascosa  -98.52550129237503,28.89332098109323  -98.52550129237503   \n",
       "1  matagorda  -95.99530169303894,28.84771261549633  -95.99530169303894   \n",
       "2    jackson   -96.56923395706752,28.8874181215156  -96.56923395706752   \n",
       "3     dewitt  -97.36382516011945,29.07072652031978  -97.36382516011945   \n",
       "4     wilson  -98.07891405628709,29.18641646756914  -98.07891405628709   \n",
       "\n",
       "            latitude  \n",
       "0  28.89332098109323  \n",
       "1  28.84771261549633  \n",
       "2   28.8874181215156  \n",
       "3  29.07072652031978  \n",
       "4  29.18641646756914  "
      ]
     },
     "execution_count": 162,
     "metadata": {},
     "output_type": "execute_result"
    }
   ],
   "source": [
    "county_detail.head()"
   ]
  },
  {
   "cell_type": "markdown",
   "metadata": {},
   "source": [
    "### Load clinic data"
   ]
  },
  {
   "cell_type": "code",
   "execution_count": 86,
   "metadata": {},
   "outputs": [],
   "source": [
    "clinic = pd.read_excel('contra&ab_ data.xlsx',sheet_name='Data_ for_STATA')"
   ]
  },
  {
   "cell_type": "code",
   "execution_count": 138,
   "metadata": {},
   "outputs": [],
   "source": [
    "# clean trailing and leading spaces in 'counties\n",
    "clinic['county'] = [x.strip() for x in clinic['county']]"
   ]
  },
  {
   "cell_type": "code",
   "execution_count": 103,
   "metadata": {},
   "outputs": [
    {
     "data": {
      "text/plain": [
       "Index(['county', 'fempop2015_ACS', 'fempop2010_ACS', 'fempop2010_TDC',\n",
       "       'fempop2015_TDC', 'whitefempop2015_TDC', 'blackfempop2015_TDC',\n",
       "       'otherfempop2015_TDC', 'hispfempop2015_TDC', 'job2015all',\n",
       "       ...\n",
       "       'ffs2015', 'mco2015', 'Medtot2015', 'ffs2010', 'pccm2010', 'mco2010',\n",
       "       'Medtot2010', 'HSR (8)', 'border', 'metro'],\n",
       "      dtype='object', length=106)"
      ]
     },
     "execution_count": 103,
     "metadata": {},
     "output_type": "execute_result"
    }
   ],
   "source": [
    "#clinic.shape\n",
    "clinic.columns"
   ]
  },
  {
   "cell_type": "code",
   "execution_count": 139,
   "metadata": {},
   "outputs": [],
   "source": [
    "#columns = 'county','totclinic2010','totclin2015'\n",
    "clnc_df = clinic[['county','totclinic2010','totclin2015']]\n"
   ]
  },
  {
   "cell_type": "code",
   "execution_count": 140,
   "metadata": {},
   "outputs": [
    {
     "data": {
      "text/plain": [
       "county           object\n",
       "totclinic2010     int64\n",
       "totclin2015       int64\n",
       "dtype: object"
      ]
     },
     "execution_count": 140,
     "metadata": {},
     "output_type": "execute_result"
    }
   ],
   "source": [
    "clnc_df.dtypes"
   ]
  },
  {
   "cell_type": "code",
   "execution_count": 141,
   "metadata": {},
   "outputs": [
    {
     "name": "stderr",
     "output_type": "stream",
     "text": [
      "C:\\Users\\olive\\AppData\\Local\\Temp/ipykernel_6280/3869388158.py:1: SettingWithCopyWarning: \n",
      "A value is trying to be set on a copy of a slice from a DataFrame.\n",
      "Try using .loc[row_indexer,col_indexer] = value instead\n",
      "\n",
      "See the caveats in the documentation: https://pandas.pydata.org/pandas-docs/stable/user_guide/indexing.html#returning-a-view-versus-a-copy\n",
      "  clnc_df['county'] = [x.lower() for x in clnc_df['county']]\n"
     ]
    }
   ],
   "source": [
    "clnc_df['county'] = [x.lower() for x in clnc_df['county']]"
   ]
  },
  {
   "cell_type": "code",
   "execution_count": null,
   "metadata": {},
   "outputs": [],
   "source": [
    "# check that the county lists are literally identical"
   ]
  },
  {
   "cell_type": "code",
   "execution_count": 168,
   "metadata": {},
   "outputs": [],
   "source": [
    "#list(county_detail.sort_values('county')['county'])[:10]\n",
    "#list(clnc_df.sort_values('county')['county'])[60:70]\n",
    "#len(list(county_detail.county))\n",
    "# list(county_detail.county)[:10]\n",
    "# clnc_df.head()\n",
    "#list(county_detail.county)\n",
    "#len(clnc_df[clnc_df.county.isin(list(county_detail.county))])\n",
    "#clnc_df[~clnc_df.county.isin(list(county_detail.county))]"
   ]
  },
  {
   "cell_type": "code",
   "execution_count": 169,
   "metadata": {},
   "outputs": [],
   "source": [
    "## Create 2 lists - one with counties with no clinics and the other with clinics\n",
    "no_clc_list = list(clnc_df[clnc_df['totclinic2010'] == 0]['county'])\n",
    "clc_list = list(clnc_df[clnc_df['totclinic2010'] >0 ]['county'])\n"
   ]
  },
  {
   "cell_type": "code",
   "execution_count": 173,
   "metadata": {},
   "outputs": [
    {
     "data": {
      "text/plain": [
       "254"
      ]
     },
     "execution_count": 173,
     "metadata": {},
     "output_type": "execute_result"
    }
   ],
   "source": [
    "len(no_clc_list)+len(clc_list)"
   ]
  },
  {
   "cell_type": "code",
   "execution_count": 187,
   "metadata": {},
   "outputs": [],
   "source": [
    "# approximate radius of earth in km\n",
    "def distance_earth(lat1,lon1,lat2,lon2):\n",
    "    R = 3963.19\n",
    "\n",
    "    lat1 = radians(lat1)\n",
    "    lon1 = radians(lon1)\n",
    "    lat2 = radians(lat2)\n",
    "    lon2 = radians(lon2)\n",
    "\n",
    "    dlon = lon2 - lon1\n",
    "    dlat = lat2 - lat1\n",
    "\n",
    "    a = sin(dlat / 2)**2 + cos(lat1) * cos(lat2) * sin(dlon / 2)**2\n",
    "    c = 2 * atan2(sqrt(a), sqrt(1 - a))\n",
    "\n",
    "    distance = R * c\n",
    "    return distance"
   ]
  },
  {
   "cell_type": "code",
   "execution_count": 188,
   "metadata": {},
   "outputs": [],
   "source": [
    "data_1_2010 = []\n",
    "for cnty in no_clc_list:\n",
    "    #print(cnty)\n",
    "    #temp_cnty = cnty\n",
    "    lat1 = county_detail[county_detail['county'] == cnty]['latitude'].values[0]\n",
    "    lon1 = county_detail[county_detail['county'] == cnty]['longitude'].values[0]\n",
    "    closest_distance = 1000\n",
    "    for cnty2 in clc_list:\n",
    "        lat2 = county_detail[county_detail['county'] == cnty2]['latitude'].values[0]\n",
    "        lon2 = county_detail[county_detail['county'] == cnty2]['longitude'].values[0]\n",
    "        temp_distance = distance_earth(lat1,lon1,lat2,lon2)\n",
    "        if temp_distance < closest_distance:\n",
    "            closest_distance = temp_distance\n",
    "            closest_county = cnty2\n",
    "    data_1_2010.append({'county':cnty,'closest_county':closest_county,'closest_distance':closest_distance})\n"
   ]
  },
  {
   "cell_type": "code",
   "execution_count": 189,
   "metadata": {},
   "outputs": [],
   "source": [
    "df1_1_2010 = pd.DataFrame(data_1_2010)"
   ]
  },
  {
   "cell_type": "code",
   "execution_count": 190,
   "metadata": {},
   "outputs": [
    {
     "data": {
      "text/html": [
       "<div>\n",
       "<style scoped>\n",
       "    .dataframe tbody tr th:only-of-type {\n",
       "        vertical-align: middle;\n",
       "    }\n",
       "\n",
       "    .dataframe tbody tr th {\n",
       "        vertical-align: top;\n",
       "    }\n",
       "\n",
       "    .dataframe thead th {\n",
       "        text-align: right;\n",
       "    }\n",
       "</style>\n",
       "<table border=\"1\" class=\"dataframe\">\n",
       "  <thead>\n",
       "    <tr style=\"text-align: right;\">\n",
       "      <th></th>\n",
       "      <th>county</th>\n",
       "      <th>closest_county</th>\n",
       "      <th>closest_distance</th>\n",
       "    </tr>\n",
       "  </thead>\n",
       "  <tbody>\n",
       "    <tr>\n",
       "      <th>0</th>\n",
       "      <td>anderson</td>\n",
       "      <td>cherokee</td>\n",
       "      <td>28.589673</td>\n",
       "    </tr>\n",
       "    <tr>\n",
       "      <th>1</th>\n",
       "      <td>archer</td>\n",
       "      <td>wichita</td>\n",
       "      <td>26.615393</td>\n",
       "    </tr>\n",
       "    <tr>\n",
       "      <th>2</th>\n",
       "      <td>armstrong</td>\n",
       "      <td>randall</td>\n",
       "      <td>30.573348</td>\n",
       "    </tr>\n",
       "    <tr>\n",
       "      <th>3</th>\n",
       "      <td>bandera</td>\n",
       "      <td>medina</td>\n",
       "      <td>26.014339</td>\n",
       "    </tr>\n",
       "    <tr>\n",
       "      <th>4</th>\n",
       "      <td>blanco</td>\n",
       "      <td>hays</td>\n",
       "      <td>27.047810</td>\n",
       "    </tr>\n",
       "  </tbody>\n",
       "</table>\n",
       "</div>"
      ],
      "text/plain": [
       "      county closest_county  closest_distance\n",
       "0   anderson       cherokee         28.589673\n",
       "1     archer        wichita         26.615393\n",
       "2  armstrong        randall         30.573348\n",
       "3    bandera         medina         26.014339\n",
       "4     blanco           hays         27.047810"
      ]
     },
     "execution_count": 190,
     "metadata": {},
     "output_type": "execute_result"
    }
   ],
   "source": [
    "df1_1_2010.head()"
   ]
  },
  {
   "cell_type": "code",
   "execution_count": 192,
   "metadata": {},
   "outputs": [
    {
     "data": {
      "text/plain": [
       "(113, 3)"
      ]
     },
     "execution_count": 192,
     "metadata": {},
     "output_type": "execute_result"
    }
   ],
   "source": [
    "df1_1_2010.shape"
   ]
  },
  {
   "cell_type": "code",
   "execution_count": 200,
   "metadata": {},
   "outputs": [],
   "source": [
    "#df1_1_2010.sort_values(['closest_county'])\n",
    "df1_1_2010 = df1_1_2010[['closest_county','county','closest_distance']].sort_values(['closest_county'])"
   ]
  },
  {
   "cell_type": "code",
   "execution_count": 201,
   "metadata": {},
   "outputs": [
    {
     "data": {
      "text/html": [
       "<div>\n",
       "<style scoped>\n",
       "    .dataframe tbody tr th:only-of-type {\n",
       "        vertical-align: middle;\n",
       "    }\n",
       "\n",
       "    .dataframe tbody tr th {\n",
       "        vertical-align: top;\n",
       "    }\n",
       "\n",
       "    .dataframe thead th {\n",
       "        text-align: right;\n",
       "    }\n",
       "</style>\n",
       "<table border=\"1\" class=\"dataframe\">\n",
       "  <thead>\n",
       "    <tr style=\"text-align: right;\">\n",
       "      <th></th>\n",
       "      <th>closest_county</th>\n",
       "      <th>county</th>\n",
       "      <th>closest_distance</th>\n",
       "    </tr>\n",
       "  </thead>\n",
       "  <tbody>\n",
       "    <tr>\n",
       "      <th>101</th>\n",
       "      <td>angelina</td>\n",
       "      <td>trinity</td>\n",
       "      <td>32.802964</td>\n",
       "    </tr>\n",
       "    <tr>\n",
       "      <th>81</th>\n",
       "      <td>angelina</td>\n",
       "      <td>polk</td>\n",
       "      <td>34.847860</td>\n",
       "    </tr>\n",
       "    <tr>\n",
       "      <th>85</th>\n",
       "      <td>aransas</td>\n",
       "      <td>refugio</td>\n",
       "      <td>13.003857</td>\n",
       "    </tr>\n",
       "    <tr>\n",
       "      <th>11</th>\n",
       "      <td>aransas</td>\n",
       "      <td>calhoun</td>\n",
       "      <td>26.310291</td>\n",
       "    </tr>\n",
       "    <tr>\n",
       "      <th>105</th>\n",
       "      <td>austin</td>\n",
       "      <td>washington</td>\n",
       "      <td>25.240788</td>\n",
       "    </tr>\n",
       "  </tbody>\n",
       "</table>\n",
       "</div>"
      ],
      "text/plain": [
       "    closest_county      county  closest_distance\n",
       "101       angelina     trinity         32.802964\n",
       "81        angelina        polk         34.847860\n",
       "85         aransas     refugio         13.003857\n",
       "11         aransas     calhoun         26.310291\n",
       "105         austin  washington         25.240788"
      ]
     },
     "execution_count": 201,
     "metadata": {},
     "output_type": "execute_result"
    }
   ],
   "source": [
    "#df1_1_2010.drop('closest_distance',axis=1).groupby('closest_county')\n",
    "df1_1_2010.head()\n",
    "#groupby()"
   ]
  },
  {
   "cell_type": "markdown",
   "metadata": {},
   "source": [
    "### 2015 data"
   ]
  },
  {
   "cell_type": "code",
   "execution_count": 203,
   "metadata": {},
   "outputs": [
    {
     "data": {
      "text/plain": [
       "254"
      ]
     },
     "execution_count": 203,
     "metadata": {},
     "output_type": "execute_result"
    }
   ],
   "source": [
    "no_clc_list = list(clnc_df[clnc_df['totclin2015'] == 0]['county'])\n",
    "clc_list = list(clnc_df[clnc_df['totclin2015'] >0 ]['county'])\n",
    "len(no_clc_list)+len(clc_list)"
   ]
  },
  {
   "cell_type": "code",
   "execution_count": 204,
   "metadata": {},
   "outputs": [],
   "source": [
    "data_1_2015 = []\n",
    "for cnty in no_clc_list:\n",
    "    #print(cnty)\n",
    "    #temp_cnty = cnty\n",
    "    lat1 = county_detail[county_detail['county'] == cnty]['latitude'].values[0]\n",
    "    lon1 = county_detail[county_detail['county'] == cnty]['longitude'].values[0]\n",
    "    closest_distance = 1000\n",
    "    for cnty2 in clc_list:\n",
    "        lat2 = county_detail[county_detail['county'] == cnty2]['latitude'].values[0]\n",
    "        lon2 = county_detail[county_detail['county'] == cnty2]['longitude'].values[0]\n",
    "        temp_distance = distance_earth(lat1,lon1,lat2,lon2)\n",
    "        if temp_distance < closest_distance:\n",
    "            closest_distance = temp_distance\n",
    "            closest_county = cnty2\n",
    "    data_1_2015.append({'county':cnty,'closest_county':closest_county,'closest_distance':closest_distance})\n"
   ]
  },
  {
   "cell_type": "code",
   "execution_count": 205,
   "metadata": {},
   "outputs": [],
   "source": [
    "df1_1_2015 = pd.DataFrame(data_1_2015)"
   ]
  },
  {
   "cell_type": "code",
   "execution_count": 206,
   "metadata": {},
   "outputs": [],
   "source": [
    "df1_1_2015 = df1_1_2015[['closest_county','county','closest_distance']].sort_values(['closest_county'])"
   ]
  },
  {
   "cell_type": "code",
   "execution_count": 207,
   "metadata": {},
   "outputs": [
    {
     "data": {
      "text/html": [
       "<div>\n",
       "<style scoped>\n",
       "    .dataframe tbody tr th:only-of-type {\n",
       "        vertical-align: middle;\n",
       "    }\n",
       "\n",
       "    .dataframe tbody tr th {\n",
       "        vertical-align: top;\n",
       "    }\n",
       "\n",
       "    .dataframe thead th {\n",
       "        text-align: right;\n",
       "    }\n",
       "</style>\n",
       "<table border=\"1\" class=\"dataframe\">\n",
       "  <thead>\n",
       "    <tr style=\"text-align: right;\">\n",
       "      <th></th>\n",
       "      <th>closest_county</th>\n",
       "      <th>county</th>\n",
       "      <th>closest_distance</th>\n",
       "    </tr>\n",
       "  </thead>\n",
       "  <tbody>\n",
       "    <tr>\n",
       "      <th>94</th>\n",
       "      <td>aransas</td>\n",
       "      <td>refugio</td>\n",
       "      <td>13.003857</td>\n",
       "    </tr>\n",
       "    <tr>\n",
       "      <th>10</th>\n",
       "      <td>aransas</td>\n",
       "      <td>calhoun</td>\n",
       "      <td>26.310291</td>\n",
       "    </tr>\n",
       "    <tr>\n",
       "      <th>20</th>\n",
       "      <td>austin</td>\n",
       "      <td>colorado</td>\n",
       "      <td>24.971734</td>\n",
       "    </tr>\n",
       "    <tr>\n",
       "      <th>69</th>\n",
       "      <td>bailey</td>\n",
       "      <td>lamb</td>\n",
       "      <td>27.420050</td>\n",
       "    </tr>\n",
       "    <tr>\n",
       "      <th>22</th>\n",
       "      <td>bell</td>\n",
       "      <td>coryell</td>\n",
       "      <td>31.087835</td>\n",
       "    </tr>\n",
       "  </tbody>\n",
       "</table>\n",
       "</div>"
      ],
      "text/plain": [
       "   closest_county    county  closest_distance\n",
       "94        aransas   refugio         13.003857\n",
       "10        aransas   calhoun         26.310291\n",
       "20         austin  colorado         24.971734\n",
       "69         bailey      lamb         27.420050\n",
       "22           bell   coryell         31.087835"
      ]
     },
     "execution_count": 207,
     "metadata": {},
     "output_type": "execute_result"
    }
   ],
   "source": [
    "df1_1_2015.head()"
   ]
  },
  {
   "cell_type": "code",
   "execution_count": 208,
   "metadata": {},
   "outputs": [
    {
     "data": {
      "text/plain": [
       "(126, 3)"
      ]
     },
     "execution_count": 208,
     "metadata": {},
     "output_type": "execute_result"
    }
   ],
   "source": [
    "df1_1_2015.shape"
   ]
  },
  {
   "cell_type": "code",
   "execution_count": 209,
   "metadata": {},
   "outputs": [
    {
     "data": {
      "text/plain": [
       "126"
      ]
     },
     "execution_count": 209,
     "metadata": {},
     "output_type": "execute_result"
    }
   ],
   "source": [
    "len(no_clc_list)"
   ]
  },
  {
   "cell_type": "markdown",
   "metadata": {},
   "source": [
    "### Output files"
   ]
  },
  {
   "cell_type": "code",
   "execution_count": 210,
   "metadata": {},
   "outputs": [],
   "source": [
    "df1_1_2015.to_csv('data_2015.csv')\n",
    "df1_1_2010.to_csv('data_2010.csv')\n"
   ]
  },
  {
   "cell_type": "code",
   "execution_count": 211,
   "metadata": {},
   "outputs": [],
   "source": [
    "county_detail.to_csv('data_county_centroid.csv')"
   ]
  },
  {
   "cell_type": "code",
   "execution_count": null,
   "metadata": {},
   "outputs": [],
   "source": []
  }
 ],
 "metadata": {
  "interpreter": {
   "hash": "622be5046a7514208b31c5ff270f0a4cea8aaf7bb018599c2e4329f73ecf086c"
  },
  "kernelspec": {
   "display_name": "Python 3.8.8 64-bit ('base': conda)",
   "language": "python",
   "name": "python3"
  },
  "language_info": {
   "codemirror_mode": {
    "name": "ipython",
    "version": 3
   },
   "file_extension": ".py",
   "mimetype": "text/x-python",
   "name": "python",
   "nbconvert_exporter": "python",
   "pygments_lexer": "ipython3",
   "version": "3.8.12"
  },
  "orig_nbformat": 4
 },
 "nbformat": 4,
 "nbformat_minor": 2
}
